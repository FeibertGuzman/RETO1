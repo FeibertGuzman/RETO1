{
 "cells": [
  {
   "cell_type": "markdown",
   "metadata": {},
   "source": [
    "# Estructura Básica del Proyecto\n",
    "## Puedes estructurar el proyecto de esta manera:"
   ]
  },
  {
   "cell_type": "code",
   "execution_count": null,
   "metadata": {},
   "outputs": [],
   "source": [
    "# php\n",
    "to-do-app/\n",
    "│\n",
    "├── public/\n",
    "│   └── index.html         # Archivo HTML principal\n",
    "│\n",
    "├── src/\n",
    "│   ├── css/\n",
    "│   │   └── styles.css     # Archivo de estilos CSS\n",
    "│   ├── js/\n",
    "│   │   └── app.js         # Archivo JavaScript para la lógica de la aplicación\n",
    "│   └── components/\n",
    "│       └── task.js        # Componente para tareas (opcional)\n",
    "│\n",
    "├── .gitignore             # Ignorar archivos innecesarios en el repositorio\n",
    "├── README.md              # Instrucciones para los estudiantes\n",
    "├── package.json           # Archivo de configuración del proyecto (si usas Node.js)\n",
    "└── LICENSE                # Licencia del proyecto"
   ]
  },
  {
   "cell_type": "markdown",
   "metadata": {},
   "source": [
    "## Contenido Básico de los Archivos\n",
    "1. public/index.html"
   ]
  },
  {
   "cell_type": "code",
   "execution_count": null,
   "metadata": {},
   "outputs": [],
   "source": [
    "# html\n",
    "<!DOCTYPE html>\n",
    "<html lang=\"en\">\n",
    "<head>\n",
    "    <meta charset=\"UTF-8\">\n",
    "    <meta name=\"viewport\" content=\"width=device-width, initial-scale=1.0\">\n",
    "    <title>To-Do List</title>\n",
    "    <link rel=\"stylesheet\" href=\"../src/css/styles.css\">\n",
    "</head>\n",
    "<body>\n",
    "    <div id=\"app\">\n",
    "        <h1>To-Do List</h1>\n",
    "        <input type=\"text\" id=\"new-task\" placeholder=\"New task\">\n",
    "        <button id=\"add-task\">Add Task</button>\n",
    "        <ul id=\"task-list\"></ul>\n",
    "    </div>\n",
    "    <script src=\"../src/js/app.js\"></script>\n",
    "</body>\n",
    "</html>\n"
   ]
  },
  {
   "cell_type": "markdown",
   "metadata": {},
   "source": [
    "2. src/css/styles.css"
   ]
  },
  {
   "cell_type": "code",
   "execution_count": null,
   "metadata": {},
   "outputs": [],
   "source": [
    "# css\n",
    "body {\n",
    "    font-family: Arial, sans-serif;\n",
    "    background-color: #f0f0f0;\n",
    "    text-align: center;\n",
    "}\n",
    "\n",
    "#app {\n",
    "    margin: 20px;\n",
    "}\n",
    "\n",
    "ul {\n",
    "    list-style-type: none;\n",
    "}\n",
    "\n",
    ".completed {\n",
    "    text-decoration: line-through;\n",
    "}\n"
   ]
  },
  {
   "cell_type": "markdown",
   "metadata": {},
   "source": [
    "3. src/js/app.js"
   ]
  },
  {
   "cell_type": "code",
   "execution_count": null,
   "metadata": {},
   "outputs": [],
   "source": [
    "# javascript\n",
    "document.getElementById('add-task').addEventListener('click', function() {\n",
    "    const taskInput = document.getElementById('new-task');\n",
    "    const taskList = document.getElementById('task-list');\n",
    "\n",
    "    if (taskInput.value) {\n",
    "        const li = document.createElement('li');\n",
    "        li.textContent = taskInput.value;\n",
    "\n",
    "        const completeBtn = document.createElement('button');\n",
    "        completeBtn.textContent = 'Complete';\n",
    "        completeBtn.addEventListener('click', function() {\n",
    "            li.classList.toggle('completed');\n",
    "        });\n",
    "\n",
    "        const deleteBtn = document.createElement('button');\n",
    "        deleteBtn.textContent = 'Delete';\n",
    "        deleteBtn.addEventListener('click', function() {\n",
    "            taskList.removeChild(li);\n",
    "        });\n",
    "\n",
    "        li.appendChild(completeBtn);\n",
    "        li.appendChild(deleteBtn);\n",
    "        taskList.appendChild(li);\n",
    "\n",
    "        taskInput.value = '';\n",
    "    }\n",
    "});\n"
   ]
  },
  {
   "cell_type": "markdown",
   "metadata": {},
   "source": [
    "4. .gitignore\n",
    "Si estás utilizando Node.js o algún otro entorno de desarrollo, puedes incluir lo siguiente para ignorar archivos innecesarios:"
   ]
  },
  {
   "cell_type": "code",
   "execution_count": null,
   "metadata": {},
   "outputs": [],
   "source": [
    "# bash\n",
    "node_modules/\n",
    ".DS_Store\n",
    ".env\n"
   ]
  },
  {
   "cell_type": "markdown",
   "metadata": {},
   "source": [
    "5. README.md"
   ]
  },
  {
   "cell_type": "code",
   "execution_count": null,
   "metadata": {},
   "outputs": [],
   "source": [
    "# markdown\n",
    "# To-Do List App\n",
    "\n",
    "Esta es una aplicación básica de lista de tareas (To-Do List) que permite agregar, eliminar y marcar tareas como completadas.\n",
    "\n",
    "## Cómo clonar y ejecutar el proyecto\n",
    "\n",
    "1. Clona el repositorio: \n",
    "    ```bash\n",
    "    git clone https://github.com/tu-usuario/to-do-app.git\n",
    "    ```\n",
    "\n",
    "2. Abre el archivo `public/index.html` en tu navegador para ver la aplicación en funcionamiento.\n",
    "\n",
    "## Funcionalidades\n",
    "\n",
    "- Agregar nuevas tareas\n",
    "- Marcar tareas como completadas\n",
    "- Eliminar tareas\n"
   ]
  },
  {
   "cell_type": "markdown",
   "metadata": {},
   "source": [
    "6. package.json (opcional si quieres usar Node.js)\n",
    "Si planeas usar Node.js para gestionar dependencias o iniciar un servidor local, puedes añadir un package.json:"
   ]
  },
  {
   "cell_type": "code",
   "execution_count": null,
   "metadata": {},
   "outputs": [],
   "source": [
    "# json\n",
    "{\n",
    "  \"name\": \"to-do-app\",\n",
    "  \"version\": \"1.0.0\",\n",
    "  \"description\": \"A simple To-Do List app\",\n",
    "  \"main\": \"index.js\",\n",
    "  \"scripts\": {\n",
    "    \"start\": \"live-server public\"\n",
    "  },\n",
    "  \"dependencies\": {},\n",
    "  \"devDependencies\": {\n",
    "    \"live-server\": \"^1.2.1\"\n",
    "  }\n",
    "}\n"
   ]
  },
  {
   "cell_type": "markdown",
   "metadata": {},
   "source": [
    "# Pasos para Crear el Repositorio en GitHub\n",
    "## Crear el Repositorio:\n",
    "\n",
    "- Inicia sesión en tu cuenta de GitHub.\n",
    "- Haz clic en el botón New Repository.\n",
    "- Asigna un nombre al repositorio, como to-do-app.\n",
    "- Selecciona si quieres que sea público o privado.\n",
    "- Agrega un archivo README y una licencia si lo prefieres.\n",
    "- Haz clic en Create Repository.\n",
    "\n",
    "## Subir la Estructura del Proyecto: \n",
    "\n",
    "Si tienes Git instalado en tu máquina, puedes -seguir estos pasos para subir la estructura del proyecto:\n",
    "\n",
    "- En la terminal o consola de comandos, navega a la carpeta donde tienes la estructura del proyecto.\n",
    "\n",
    "- Ejecuta los siguientes comandos:"
   ]
  },
  {
   "cell_type": "code",
   "execution_count": null,
   "metadata": {},
   "outputs": [],
   "source": [
    "# bash\n",
    "\n",
    "git init\n",
    "git add .\n",
    "git commit -m \"Initial commit with project structure\"\n",
    "git branch -M main\n",
    "git remote add origin https://github.com/FeibertGuzman/RETO1.git\n",
    "git push -u origin main\n"
   ]
  },
  {
   "cell_type": "markdown",
   "metadata": {},
   "source": [
    "Esto subirá el contenido de tu carpeta al repositorio de GitHub."
   ]
  },
  {
   "cell_type": "markdown",
   "metadata": {},
   "source": [
    "## Compartir el Repositorio con los Estudiantes:\n",
    "\n",
    "URL del repositorio (https://github.com/FeibertGuzman/RETO1.git) para que puedan clonar el proyecto y comenzar a trabajar rápidamente.\n",
    "\n",
    "- Ellos podrán clonar el proyecto usando:"
   ]
  },
  {
   "cell_type": "code",
   "execution_count": null,
   "metadata": {},
   "outputs": [],
   "source": [
    "# bash \n",
    "git clone https://github.com/FeibertGuzman/RETO1.git"
   ]
  }
 ],
 "metadata": {
  "language_info": {
   "name": "python"
  }
 },
 "nbformat": 4,
 "nbformat_minor": 2
}
